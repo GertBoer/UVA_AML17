{
 "cells": [
  {
   "cell_type": "markdown",
   "metadata": {},
   "source": [
    "# Assignment 1\n",
    "## Experiments\n",
    "\n",
    "Seems like you've already implemented all the building blocks of the neural networks. Now we will conduct several experiments.\n",
    "\n",
    "Note: These experiments will not be evaluated."
   ]
  },
  {
   "cell_type": "markdown",
   "metadata": {},
   "source": [
    "## Table of contents\n",
    "* [0. Circles Classification Task](#0.-Circles-Classification-Task)\n",
    "\n",
    "* [1. Digits Classification Task](#1.-Digits-Classification-Task)\n"
   ]
  },
  {
   "cell_type": "markdown",
   "metadata": {},
   "source": [
    "# 0. Circles Classification Task"
   ]
  },
  {
   "cell_type": "code",
   "execution_count": 1,
   "metadata": {
    "collapsed": true
   },
   "outputs": [],
   "source": [
    "import numpy as np\n",
    "import matplotlib.pyplot as plt\n",
    "%matplotlib inline\n",
    "from IPython.display import Image\n",
    "from IPython.core.display import HTML "
   ]
  },
  {
   "cell_type": "markdown",
   "metadata": {},
   "source": [
    "We will import the functions from the \"Blocks ipython notebook\" and will use them for training a network for classification task."
   ]
  },
  {
   "cell_type": "code",
   "execution_count": 3,
   "metadata": {
    "collapsed": false
   },
   "outputs": [],
   "source": [
    "%%capture\n",
    "%run 1.Blocks.ipynb"
   ]
  },
  {
   "cell_type": "markdown",
   "metadata": {},
   "source": [
    "In this first task we will classify two circles by training a neural network. \n",
    "\n",
    "The main purpose of this task is to understand the **importance of network design and parameters tunning (Number of layers, Number of hidden units etc)**. At first we will generate and visualize the data in following cell."
   ]
  },
  {
   "cell_type": "code",
   "execution_count": 25,
   "metadata": {
    "collapsed": false
   },
   "outputs": [
    {
     "data": {
      "text/plain": [
       "<matplotlib.collections.PathCollection at 0x1194e9550>"
      ]
     },
     "execution_count": 25,
     "metadata": {},
     "output_type": "execute_result"
    },
    {
     "data": {
      "image/png": "[encoded data removed]",
      "text/plain": [
       "<matplotlib.figure.Figure at 0x110367780>"
      ]
     },
     "metadata": {},
     "output_type": "display_data"
    }
   ],
   "source": [
    "# Generate some data\n",
    "N = 100\n",
    "phi = np.linspace(0.0, np.pi * 2, 100)\n",
    "X1 = 1.1 * np.array([np.sin(phi), np.cos(phi)])\n",
    "X2 = 3.0 * np.array([np.sin(phi), np.cos(phi)])\n",
    "\n",
    "Y = np.concatenate([np.ones(N), -1.0 * np.ones(N)]).reshape((-1, 1))\n",
    "\n",
    "X = np.hstack([X1,X2]).T\n",
    "plt.scatter(X[:,0], X[:,1], c=Y.ravel(), edgecolors= 'none')"
   ]
  },
  {
   "cell_type": "markdown",
   "metadata": {},
   "source": [
    "As you have already written the code blocks in the *Blocks* file we will just call those functions and will train the network to classify the two circles. \n",
    "\n",
    "For this task we have provided the code for training and testing of the network in following blocks. Students are asked to design the network with different configurations  and observe the outputs.\n",
    "* **Single Layer Neural Network**\n",
    "* **Multiple Layer Neural Network**\n",
    "* **Different number of Hidden units**\n",
    "* **With and without activation function**"
   ]
  },
  {
   "cell_type": "code",
   "execution_count": 41,
   "metadata": {
    "collapsed": false
   },
   "outputs": [],
   "source": [
    "##Training the network ##\n",
    "model = SequentialNN()\n",
    "# model.add(....)\n",
    "# model.add(....)\n",
    "###YOUR CODE FOR DESIGNING THE NETWORK ###\n",
    "\n",
    "loss = Hinge()\n",
    "weight_decay = 0.01\n",
    "sgd = SGD(model, lr=0.01, weight_decay=weight_decay)\n",
    "\n",
    "for i in range(100):\n",
    "    # get the predictions\n",
    "    y_pred = model.forward(X)\n",
    "    \n",
    "    # compute the loss value + L_2 term\n",
    "    loss_value = loss.forward(y_pred, Y) + l2_regularizer(weight_decay, model.get_params())\n",
    "    \n",
    "    # log the current loss value\n",
    "    print('Step: {}, \\tLoss = {:.2f}'.format(i+1, loss_value))\n",
    "    \n",
    "    # get the gradient of the loss functions\n",
    "    loss_grad = loss.backward(y_pred, Y)\n",
    "    \n",
    "    # backprop the gradients\n",
    "    model.backward(X, loss_grad)\n",
    "    \n",
    "    # perform the updates\n",
    "    sgd.update_params()"
   ]
  },
  {
   "cell_type": "code",
   "execution_count": 42,
   "metadata": {
    "collapsed": false
   },
   "outputs": [],
   "source": [
    "##Testing the network ##\n",
    "y_pred = model.forward(X) > 0\n",
    "plt.scatter(X[:,0], X[:,1], c = y_pred.ravel(), edgecolors= 'none')"
   ]
  },
  {
   "cell_type": "markdown",
   "metadata": {},
   "source": [
    "# 1. Digits Classification Task"
   ]
  },
  {
   "cell_type": "markdown",
   "metadata": {},
   "source": [
    "In this task you will implement a neural network for classification of hand written digits. You can use the blocks of code which you implemented in the first part of this assignment for completing this task.\n",
    "\n",
    "We will use **digits** dataset for this task. This dataset consists of 1797 8x8 images. Further information about the dataset can be found [here](http://archive.ics.uci.edu/ml/datasets/Pen-Based+Recognition+of+Handwritten+Digits). "
   ]
  },
  {
   "cell_type": "code",
   "execution_count": 3,
   "metadata": {
    "collapsed": false
   },
   "outputs": [
    {
     "data": {
      "image/png": "[encoded data removed]",
      "text/plain": [
       "<matplotlib.figure.Figure at 0x2bb2a39ed30>"
      ]
     },
     "metadata": {},
     "output_type": "display_data"
    }
   ],
   "source": [
    "import sklearn.datasets\n",
    "\n",
    "# We load the dataset\n",
    "digits = sklearn.datasets.load_digits()\n",
    "\n",
    "# Here we load up the images and labels and print some examples\n",
    "images_and_labels = list(zip(digits.images, digits.target))\n",
    "for index, (image, label) in enumerate(images_and_labels[:10]):\n",
    "    plt.subplot(2, 5, index + 1)\n",
    "    plt.axis('off')\n",
    "    plt.imshow(image, cmap=plt.cm.gray_r, interpolation='nearest')\n",
    "    plt.title('Training: {}'.format(label), y=1.1)"
   ]
  },
  {
   "cell_type": "markdown",
   "metadata": {},
   "source": [
    "Next we will divide the images and labels data into two parts i.e. training data and test data."
   ]
  },
  {
   "cell_type": "code",
   "execution_count": 4,
   "metadata": {
    "collapsed": true
   },
   "outputs": [],
   "source": [
    "n_objects = digits.images.shape[0]\n",
    "train_test_split = 0.7\n",
    "train_size = int(n_objects * train_test_split)\n",
    "indices = np.arange(n_objects)\n",
    "np.random.shuffle(indices)\n",
    "\n",
    "train_indices, test_indices = indices[:train_size], indices[train_size:]\n",
    "train_images, train_targets = digits.images[train_indices], digits.target[train_indices]\n",
    "test_images, test_targets = digits.images[test_indices], digits.target[test_indices]\n"
   ]
  },
  {
   "cell_type": "markdown",
   "metadata": {},
   "source": [
    "The images in the dataset are $8 \\times 8$ and each pixel in the image is eithe 0 or 1. Before giving the images as input to the neural network we will reshape them to 1 by 64 times long 1 dimensional vector as shown in the figure below.\n",
    "![in](./src/image_pixel_input.png)"
   ]
  },
  {
   "cell_type": "code",
   "execution_count": 5,
   "metadata": {
    "collapsed": true
   },
   "outputs": [],
   "source": [
    "train_images = train_images.reshape((-1, 64))\n",
    "test_images = test_images.reshape((-1, 64))"
   ]
  },
  {
   "cell_type": "markdown",
   "metadata": {},
   "source": [
    "The basic units of the neural network are perceptrons. A perceptron consists of a cell with atleast two inputs. Cell takes the inputs multiplied with weights and gives an output after computing the values. The basic diagram of a cell is shown below.\n",
    "![neuron](./src/neuron.png)\n",
    "For the image dataset which we will be using in this task the perceptron will have 64 inputs for $8 \\times 8$ input and 64 weights.\n",
    "![N_weights](./src/weights.png)\n",
    "As the digits dataset consists of 10 classes (0 to 9) so, in order to classifiy the images we will need 10 neurons for the prediction of the target class. It can be seen from the image each neuron will give an output and the output from the neuron with the highest value will be selected and that will be the predicted output.\n",
    "![NN](./src/design.png)\n",
    "Now, in order to perform classification task for images you will use the functions which you implemented in the first task of the assignment."
   ]
  },
  {
   "cell_type": "markdown",
   "metadata": {},
   "source": [
    "In the following lines of code we will train a complete neural network by giving the images as input and the labels as targets to the network. At first we will design the network by by setting the parameters of network by calling *SequentialNN()* function, after that we will forward propagate the inputs through the network and will calculate the loss, the error between the predicted output and the target output will be back propagated through the network. Finally the parameters of the network will be updated in the direction to reduce the error of the prediction."
   ]
  },
  {
   "cell_type": "code",
   "execution_count": null,
   "metadata": {
    "collapsed": true
   },
   "outputs": [],
   "source": [
    "### YOUR CODE FOR TRAINING THE NETWORK###\n",
    "#Specify the input size for the network\n",
    "#specify the output size for the network\n",
    "#specify the inputs for the network\n",
    "#specify the outputs for the network\n",
    "#num_input=\n",
    "#num_output=\n",
    "#X=\n",
    "#y=\n",
    "###\n",
    "model = SequentialNN()\n",
    "model.add(Dense(num_input,num_output))\n",
    "\n",
    "loss = Hinge()\n",
    "weight_decay = 0.01\n",
    "sgd = SGD(model, lr=0.01, weight_decay=weight_decay)\n",
    "\n",
    "for i in range(100):\n",
    "    # get the predictions\n",
    "    y_pred = model.forward(X)\n",
    "    \n",
    "    # compute the loss value + L_2 term\n",
    "    loss_value = loss.forward(y_pred, Y) + l2_regularizer(weight_decay, model.get_params())\n",
    "    \n",
    "    # log the current loss value\n",
    "    print('Step: {}, \\tLoss = {:.2f}'.format(i+1, loss_value))\n",
    "    \n",
    "    # get the gradient of the loss functions\n",
    "    loss_grad = loss.backward(y_pred, Y)\n",
    "    \n",
    "    # backprop the gradients\n",
    "    model.backward(X, loss_grad)\n",
    "    \n",
    "    # perform the updates\n",
    "    sgd.update_params()"
   ]
  },
  {
   "cell_type": "markdown",
   "metadata": {},
   "source": [
    "After training the network should be tested on test data; images in this task. During the test time unlabeled inputs are given to the network and by using the trained weights from the training cycle of the network the ouput classes for the unlabeled inputs are predicted. The figure below shows the difference between the training and the testing of the network.\n",
    "![test](./src/Test.PNG)\n",
    "In the following cell implement the code for testing the network. "
   ]
  },
  {
   "cell_type": "code",
   "execution_count": 12,
   "metadata": {
    "collapsed": true
   },
   "outputs": [],
   "source": [
    "#Testing the network \n",
    "###YOUR CODE FOR TESTING THE NETWORK  ###"
   ]
  },
  {
   "cell_type": "markdown",
   "metadata": {
    "collapsed": true
   },
   "source": [
    "For further practice and advanced experiments you can use MNIST dataset for the classification of hand written digits. It is a commonly used image dataset for testing the machine learning algorithms. You can load this dataset by using the code from the file *data_utils* in week_1 folder. "
   ]
  },
  {
   "cell_type": "code",
   "execution_count": null,
   "metadata": {
    "collapsed": true
   },
   "outputs": [],
   "source": []
  }
 ],
 "metadata": {
  "kernelspec": {
   "display_name": "Python 3",
   "language": "python",
   "name": "python3"
  },
  "language_info": {
   "codemirror_mode": {
    "name": "ipython",
    "version": 3
   },
   "file_extension": ".py",
   "mimetype": "text/x-python",
   "name": "python",
   "nbconvert_exporter": "python",
   "pygments_lexer": "ipython3",
   "version": "3.6.3"
  }
 },
 "nbformat": 4,
 "nbformat_minor": 2
}
